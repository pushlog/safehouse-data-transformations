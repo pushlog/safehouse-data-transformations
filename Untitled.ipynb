{
 "cells": [
  {
   "cell_type": "code",
   "execution_count": 1,
   "metadata": {},
   "outputs": [
    {
     "name": "stdout",
     "output_type": "stream",
     "text": [
      "                                           hits.hits\n",
      "0  [{'_id': 'NgSQ1GEB0PBGFHH5AuIJ', '_score': 1.0...\n",
      "1  [{'_id': 'wwfd1WEB0PBGFHH5QjGB', '_score': 1.0...\n",
      "2  [{'_id': 'ZQlN12EB0PBGFHH5Sb6D', '_score': 1.0...\n",
      "3                                                 []\n",
      "Total Recieved 4 \n",
      "\n"
     ]
    }
   ],
   "source": [
    "\n",
    "import subprocess\n",
    "import json\n",
    "from pandas.io.json import json_normalize\n",
    "from summarizeDataFrame import summarizeDataset\n",
    "from datetime import datetime\n",
    "\n",
    "import pandas as pd\n",
    "\n",
    "# Initialized variables\n",
    "\n",
    "import search_elastic as se\n",
    "\n",
    "# Initialized variables\n",
    "\n",
    "elasticdatetimecolumn = '_source.@timestamp'\n",
    "\n",
    "data = se.search_elastic('auditbeat-6.2.2-2018.02.27')\n",
    "\n",
    "d = pd.DataFrame(json_normalize(data))\n",
    "#print(pd.DataFrame.keys(d))\n",
    "\n",
    "df = pd.DataFrame(d['hits.hits'])\n",
    "print(df)\n",
    "\n",
    "#totalHits=str(data['hits']['total'])\n",
    "\n",
    "#print(\"Total Hits: \",totalHits )\n",
    "print(\"Total Recieved\",len(df) ,'\\n')\n",
    "\n",
    "\n",
    "# Convert timestamp to date time to sort by datetime\n",
    "\n",
    "#df['DateTime'] =pd.to_datetime(df[elasticdatetimecolumn])\n",
    "\n",
    "#df.sort_values(by=['DateTime'],inplace = True)\n",
    "\n",
    "\n",
    "\n",
    "#print(df2.dtype)\n",
    "#summarizeDataset(df)\n",
    "#print(df.head())\n",
    "\n",
    "\n",
    "#print(df['DateTime'])\n",
    "#\n",
    "\n",
    "#df.to_csv(\"/home/david/Desktop/new.csv\" , sep='\\t' , index=False)\n",
    "\n",
    "\n",
    "\n",
    "\n",
    "\n",
    "\n",
    "\n",
    "#\n",
    "#     df = json_normalize(item['hits']['hits'])\n",
    "\n",
    "#print(json_normalize(item['hits']['hits']))\n",
    "# new=json_normalize(data['responses'])\n",
    "# data1 = pd.read_json(string,typ='index')\n",
    "#res['hits']['hits']\n",
    "#df = pd.concat(map(pd.DataFrame.from_dict, data), axis=1)['hits'].T\n",
    "#print(new.head())\n"
   ]
  },
  {
   "cell_type": "code",
   "execution_count": 7,
   "metadata": {},
   "outputs": [
    {
     "name": "stderr",
     "output_type": "stream",
     "text": [
      "IOPub data rate exceeded.\n",
      "The notebook server will temporarily stop sending output\n",
      "to the client in order to avoid crashing it.\n",
      "To change this limit, set the config variable\n",
      "`--NotebookApp.iopub_data_rate_limit`.\n",
      "\n",
      "Current values:\n",
      "NotebookApp.iopub_data_rate_limit=1000000.0 (bytes/sec)\n",
      "NotebookApp.rate_limit_window=3.0 (secs)\n",
      "\n",
      "/home/david/.local/lib/python3.5/site-packages/ipykernel_launcher.py:1: DeprecationWarning: \n",
      ".ix is deprecated. Please use\n",
      ".loc for label based indexing or\n",
      ".iloc for positional indexing\n",
      "\n",
      "See the documentation here:\n",
      "http://pandas.pydata.org/pandas-docs/stable/indexing.html#ix-indexer-is-deprecated\n",
      "  \"\"\"Entry point for launching an IPython kernel.\n"
     ]
    }
   ],
   "source": [
    "print(df.ix[1, 'hits.hits'])"
   ]
  },
  {
   "cell_type": "code",
   "execution_count": null,
   "metadata": {},
   "outputs": [],
   "source": []
  }
 ],
 "metadata": {
  "kernelspec": {
   "display_name": "Python 3",
   "language": "python",
   "name": "python3"
  },
  "language_info": {
   "codemirror_mode": {
    "name": "ipython",
    "version": 3
   },
   "file_extension": ".py",
   "mimetype": "text/x-python",
   "name": "python",
   "nbconvert_exporter": "python",
   "pygments_lexer": "ipython3",
   "version": "3.5.2"
  }
 },
 "nbformat": 4,
 "nbformat_minor": 2
}
